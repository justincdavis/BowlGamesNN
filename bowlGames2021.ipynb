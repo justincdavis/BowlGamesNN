{
  "nbformat": 4,
  "nbformat_minor": 0,
  "metadata": {
    "colab": {
      "name": "bowlGames2021.ipynb",
      "provenance": [],
      "collapsed_sections": []
    },
    "kernelspec": {
      "name": "python3",
      "display_name": "Python 3"
    },
    "language_info": {
      "name": "python"
    }
  },
  "cells": [
    {
      "cell_type": "code",
      "execution_count": 238,
      "metadata": {
        "id": "S4aWXycJkgGb"
      },
      "outputs": [],
      "source": [
        "import numpy as np\n",
        "import pandas as pd\n",
        "import matplotlib.pyplot as plt\n",
        "import sklearn as sk\n",
        "\n",
        "from sklearn.model_selection import train_test_split\n",
        "from sklearn.svm import SVC\n",
        "from sklearn.linear_model import ElasticNet, ElasticNetCV, LassoCV\n",
        "from sklearn.ensemble import RandomForestClassifier\n",
        "from sklearn.model_selection import GridSearchCV"
      ]
    },
    {
      "cell_type": "code",
      "source": [
        "gr = pd.read_csv(\"gameResults.csv\")\n",
        "tg = pd.read_csv(\"teamGeography.csv\")\n",
        "tr = pd.read_csv(\"teamRecords.csv\")"
      ],
      "metadata": {
        "id": "8Q48VoqOv7lJ"
      },
      "execution_count": 239,
      "outputs": []
    },
    {
      "cell_type": "code",
      "source": [
        "print(\"Game Results Data:\")\n",
        "print(gr.head(10))\n",
        "print(\"Game Results Description:\")\n",
        "print(gr.describe(include=\"all\"))\n",
        "print(\"Columns in Game Results:\")\n",
        "print(list(gr.columns))"
      ],
      "metadata": {
        "colab": {
          "base_uri": "https://localhost:8080/"
        },
        "id": "8YlIGeEzxP4A",
        "outputId": "d27caac3-49c7-4165-acb3-824a78470272"
      },
      "execution_count": 240,
      "outputs": [
        {
          "output_type": "stream",
          "name": "stdout",
          "text": [
            "Game Results Data:\n",
            "          id  season  ...  away_postgame_elo excitement_index\n",
            "0  401282714    2021  ...             1484.0         5.485981\n",
            "1  401286187    2021  ...             1122.0         1.535556\n",
            "2  401309833    2021  ...             1378.0         1.391185\n",
            "3  401282049    2021  ...             1301.0         1.702420\n",
            "4  401310693    2021  ...                NaN              NaN\n",
            "5  401282050    2021  ...                NaN         2.131612\n",
            "6  401309540    2021  ...                NaN         2.026239\n",
            "7  401282051    2021  ...                NaN         1.825486\n",
            "8  401328545    2021  ...                NaN              NaN\n",
            "9  401309542    2021  ...                NaN         1.153753\n",
            "\n",
            "[10 rows x 34 columns]\n",
            "Game Results Description:\n",
            "                  id  season  ...  away_postgame_elo excitement_index\n",
            "count   8.910000e+02   891.0  ...         735.000000       811.000000\n",
            "unique           NaN     NaN  ...                NaN              NaN\n",
            "top              NaN     NaN  ...                NaN              NaN\n",
            "freq             NaN     NaN  ...                NaN              NaN\n",
            "mean    4.012956e+08  2021.0  ...        1489.297959         4.484178\n",
            "std     1.565436e+04     0.0  ...         307.514072         2.581457\n",
            "min     4.012819e+08  2021.0  ...         522.000000         0.095736\n",
            "25%     4.012826e+08  2021.0  ...        1300.500000         2.276553\n",
            "50%     4.012879e+08  2021.0  ...        1494.000000         4.243167\n",
            "75%     4.013096e+08  2021.0  ...        1684.000000         6.486876\n",
            "max     4.013912e+08  2021.0  ...        2483.000000        21.535570\n",
            "\n",
            "[11 rows x 34 columns]\n",
            "Columns in Game Results:\n",
            "['id', 'season', 'week', 'season_type', 'start_date', 'start_time_tbd', 'neutral_site', 'conference_game', 'attendance', 'venue_id', 'venue', 'home_id', 'home_team', 'home_conference', 'home_points', 'home_line_scores[0]', 'home_line_scores[1]', 'home_line_scores[2]', 'home_line_scores[3]', 'home_post_win_prob', 'home_pregame_elo', 'home_postgame_elo', 'away_id', 'away_team', 'away_conference', 'away_points', 'away_line_scores[0]', 'away_line_scores[1]', 'away_line_scores[2]', 'away_line_scores[3]', 'away_post_win_prob', 'away_pregame_elo', 'away_postgame_elo', 'excitement_index']\n"
          ]
        }
      ]
    },
    {
      "cell_type": "code",
      "source": [
        "print(\"Team Records Data:\")\n",
        "print(tr.head(10))\n",
        "print(\"Team Records Description:\")\n",
        "print(tr.describe(include=\"all\"))\n",
        "print(\"Columns in Team Records:\")\n",
        "print(list(tr.columns))"
      ],
      "metadata": {
        "colab": {
          "base_uri": "https://localhost:8080/"
        },
        "id": "zscCnYFXxDHj",
        "outputId": "08c645f6-ca35-4bfa-aae1-d864bd63bec9"
      },
      "execution_count": 241,
      "outputs": [
        {
          "output_type": "stream",
          "name": "stdout",
          "text": [
            "Team Records Data:\n",
            "   year               team  ... awayGames.losses awayGames.ties\n",
            "0  2021          Air Force  ...                0              0\n",
            "1  2021              Akron  ...                5              0\n",
            "2  2021            Alabama  ...                1              0\n",
            "3  2021  Appalachian State  ...                3              0\n",
            "4  2021            Arizona  ...                5              0\n",
            "5  2021      Arizona State  ...                3              0\n",
            "6  2021           Arkansas  ...                3              0\n",
            "7  2021     Arkansas State  ...                5              0\n",
            "8  2021               Army  ...                2              0\n",
            "9  2021             Auburn  ...                3              0\n",
            "\n",
            "[10 rows x 21 columns]\n",
            "Team Records Description:\n",
            "          year              team  ... awayGames.losses awayGames.ties\n",
            "count    130.0               130  ...       130.000000          130.0\n",
            "unique     NaN               130  ...              NaN            NaN\n",
            "top        NaN  Middle Tennessee  ...              NaN            NaN\n",
            "freq       NaN                 1  ...              NaN            NaN\n",
            "mean    2021.0               NaN  ...         3.200000            0.0\n",
            "std        0.0               NaN  ...         1.611009            0.0\n",
            "min     2021.0               NaN  ...         0.000000            0.0\n",
            "25%     2021.0               NaN  ...         2.000000            0.0\n",
            "50%     2021.0               NaN  ...         3.000000            0.0\n",
            "75%     2021.0               NaN  ...         4.000000            0.0\n",
            "max     2021.0               NaN  ...         7.000000            0.0\n",
            "\n",
            "[11 rows x 21 columns]\n",
            "Columns in Team Records:\n",
            "['year', 'team', 'conference', 'division', 'expectedWins', 'total.games', 'total.wins', 'total.losses', 'total.ties', 'conferenceGames.games', 'conferenceGames.wins', 'conferenceGames.losses', 'conferenceGames.ties', 'homeGames.games', 'homeGames.wins', 'homeGames.losses', 'homeGames.ties', 'awayGames.games', 'awayGames.wins', 'awayGames.losses', 'awayGames.ties']\n"
          ]
        }
      ]
    },
    {
      "cell_type": "code",
      "source": [
        "print(\"Team Geography Data:\")\n",
        "print(tg.head(10))\n",
        "print(\"Team Geography Description:\")\n",
        "print(tg.describe(include=\"all\"))\n",
        "print(\"Columns in Team Geography:\")\n",
        "print(list(tg.columns))"
      ],
      "metadata": {
        "colab": {
          "base_uri": "https://localhost:8080/"
        },
        "id": "RhqhSfWN1yLU",
        "outputId": "c882d8f6-f888-41f4-b39c-75c028fa8eb6"
      },
      "execution_count": 242,
      "outputs": [
        {
          "output_type": "stream",
          "name": "stdout",
          "text": [
            "Team Geography Data:\n",
            "              school  location.elevation     location.city location.state\n",
            "0  Abilene Christian                 NaN               NaN            NaN\n",
            "1        Adams State                 NaN               NaN            NaN\n",
            "2             Adrian                 NaN               NaN            NaN\n",
            "3          Air Force         2024.875732  Colorado Springs             CO\n",
            "4              Akron          321.287506             Akron             OH\n",
            "5            Alabama           70.051361        Tuscaloosa             AL\n",
            "6        Alabama A&M                 NaN               NaN            NaN\n",
            "7      Alabama State           75.102104        Montgomery             AL\n",
            "8             Albany           70.100000            Albany             NY\n",
            "9  Albany State (GA)                 NaN               NaN            NaN\n",
            "Team Geography Description:\n",
            "               school  location.elevation location.city location.state\n",
            "count            1729        2.120000e+02           212            212\n",
            "unique           1719                 NaN           193             49\n",
            "top     Blinn College                 NaN        Durham             TX\n",
            "freq                4                 NaN             3             14\n",
            "mean              NaN        2.951052e+02           NaN            NaN\n",
            "std               NaN        4.253332e+02           NaN            NaN\n",
            "min               NaN        1.180000e-38           NaN            NaN\n",
            "25%               NaN        6.107670e+01           NaN            NaN\n",
            "50%               NaN        1.725530e+02           NaN            NaN\n",
            "75%               NaN        2.799493e+02           NaN            NaN\n",
            "max               NaN        2.200154e+03           NaN            NaN\n",
            "Columns in Team Geography:\n",
            "['school', 'location.elevation', 'location.city', 'location.state']\n"
          ]
        }
      ]
    },
    {
      "cell_type": "code",
      "source": [
        "unusedGrCols = ['id', \"season\", \"week\", \"season_type\", \"start_date\", \"start_time_tbd\", \"neutral_site\", \"conference_game\", \"attendance\", \"venue_id\", \"venue\", \"home_id\", \"home_conference\"]\n",
        "unusedGrCols += [\"home_post_win_prob\", \"home_pregame_elo\", \"home_postgame_elo\", \"away_id\", \"away_conference\", \"away_post_win_prob\", \"away_pregame_elo\", \"away_postgame_elo\", \"excitement_index\"]\n",
        "unusedGrCols += [\"home_line_scores[0]\", \"home_line_scores[1]\", \"home_line_scores[2]\", \"home_line_scores[3]\", \"away_line_scores[0]\", \"away_line_scores[1]\", \"away_line_scores[2]\"]\n",
        "unusedGrCols += [\"away_line_scores[3]\"]\n",
        "for id in unusedGrCols:\n",
        "  gr.drop(id, axis=1, inplace=True)\n",
        "print(gr.head(10))"
      ],
      "metadata": {
        "colab": {
          "base_uri": "https://localhost:8080/"
        },
        "id": "3t3VdUb0JR0z",
        "outputId": "c137925f-75b6-4c1e-c0ab-d24b04ef6595"
      },
      "execution_count": 243,
      "outputs": [
        {
          "output_type": "stream",
          "name": "stdout",
          "text": [
            "               home_team  home_points               away_team  away_points\n",
            "0               Illinois         30.0                Nebraska         22.0\n",
            "1           Fresno State         45.0             Connecticut          0.0\n",
            "2                   UCLA         44.0                 Hawai'i         10.0\n",
            "3       New Mexico State          3.0                    UTEP         30.0\n",
            "4         San José State         45.0           Southern Utah         14.0\n",
            "5     Jacksonville State          0.0                     UAB         31.0\n",
            "6             Ball State         31.0        Western Illinois         21.0\n",
            "7  Florida International         54.0  Long Island University         10.0\n",
            "8       Coastal Carolina         52.0             The Citadel         14.0\n",
            "9                Buffalo         69.0                  Wagner          7.0\n"
          ]
        }
      ]
    },
    {
      "cell_type": "code",
      "source": [
        "unusedTrCols = [\"year\", \"expectedWins\", \"conferenceGames.games\", \"conferenceGames.wins\", \"conferenceGames.losses\", \"conferenceGames.ties\", \"homeGames.games\"]\n",
        "unusedTrCols += [\"homeGames.wins\", \"homeGames.losses\", \"homeGames.ties\", \"awayGames.games\", \"awayGames.wins\", \"awayGames.losses\", \"awayGames.ties\", \"total.ties\"]\n",
        "for id in unusedTrCols:\n",
        "  tr.drop(id, axis=1, inplace=True)\n",
        "print(tr.head(10))"
      ],
      "metadata": {
        "colab": {
          "base_uri": "https://localhost:8080/"
        },
        "id": "STW0d58CLUXi",
        "outputId": "11bf6e30-44bd-4bf6-eb3c-83b4cfa0d790"
      },
      "execution_count": 244,
      "outputs": [
        {
          "output_type": "stream",
          "name": "stdout",
          "text": [
            "                team        conference  ... total.wins  total.losses\n",
            "0          Air Force     Mountain West  ...          9             3\n",
            "1              Akron      Mid-American  ...          2            10\n",
            "2            Alabama               SEC  ...         12             1\n",
            "3  Appalachian State          Sun Belt  ...         10             4\n",
            "4            Arizona            Pac-12  ...          1            11\n",
            "5      Arizona State            Pac-12  ...          8             4\n",
            "6           Arkansas               SEC  ...          8             4\n",
            "7     Arkansas State          Sun Belt  ...          2            10\n",
            "8               Army  FBS Independents  ...          8             4\n",
            "9             Auburn               SEC  ...          6             6\n",
            "\n",
            "[10 rows x 6 columns]\n"
          ]
        }
      ]
    },
    {
      "cell_type": "code",
      "source": [
        "# conversion functions for string data types\n",
        "def convert_conference(conf):\n",
        "  conf_dict = {\n",
        "        'American' : 1,\n",
        "        'ACC' : 2,\n",
        "        'Big 12' : 3,\n",
        "        'Big Ten' : 4,\n",
        "        'Conference USA' : 5,\n",
        "        'FBS Independents' : 6,\n",
        "        'Mid-American' : 7,\n",
        "        'Mountain West' : 8,\n",
        "        'Pac-12' : 9,\n",
        "        'SEC' : 10,\n",
        "        'Sun Belt' : 11\n",
        "    }\n",
        "  try:\n",
        "    try:\n",
        "      return conf_dict.get(conf.array[0], 0)\n",
        "    except:\n",
        "      return conf_dict.get(conf, 0)\n",
        "  except:\n",
        "    return 0\n",
        "\n",
        "def convert_division(div):\n",
        "  div_dict = {\n",
        "        'North' : 1,\n",
        "        'South' : 2,\n",
        "        'East' : 3,\n",
        "        'West' : 4,\n",
        "        'Atlantic' : 5,\n",
        "        'Mountain' : 6,\n",
        "        'Coastal' : 7\n",
        "    }\n",
        "  try:\n",
        "    try:\n",
        "      return div_dict.get(div.array[0], 0)\n",
        "    except:\n",
        "      return div_dict.get(div, 0)\n",
        "  except:\n",
        "    return 0\n",
        "\n",
        "# conversion function for win, losses, ties, games so invalid rows can be deleted\n",
        "def convert_wlt(data):\n",
        "  try:\n",
        "    try:\n",
        "      return float(data.array[0])\n",
        "    except:\n",
        "      return float(data)\n",
        "  except:\n",
        "    return np.nan"
      ],
      "metadata": {
        "id": "x6tsWXRdIrzR"
      },
      "execution_count": 245,
      "outputs": []
    },
    {
      "cell_type": "code",
      "source": [
        "df = gr.copy(deep=True)\n",
        "newCols = ['home.conference', 'home.division', 'home.altitude', 'away.conference', 'away.division', 'away.altitude', 'home.games', 'home.wins', 'home.losses']\n",
        "newCols += ['away.games', 'away.wins', 'away.losses']\n",
        "df = df.reindex(columns=df.columns.tolist() + newCols)\n",
        "for index, row in df.iterrows():\n",
        "  # index into the tr array and add the data into this dataframe (but renamed)\n",
        "  homeRow = tr.loc[tr['team'] == row[\"home_team\"]]\n",
        "  awayRow = tr.loc[tr['team'] == row[\"away_team\"]]\n",
        "  # index into tg array and add the data\n",
        "  homeGeo = tg.loc[tg['school'] == row['home_team']]\n",
        "  awayGeo = tg.loc[tg['school'] == row['away_team']]\n",
        "  # add the data into the df dataframe\n",
        "  df.at[index, 'home.conference'] = convert_conference(homeRow['conference'])\n",
        "  df.at[index, 'away.conference'] = convert_conference(awayRow['conference'])\n",
        "  df.at[index, 'home.division'] = convert_division(homeRow['division'])\n",
        "  df.at[index, 'away.division'] = convert_division(awayRow['division'])\n",
        "  df.at[index, 'home.altitude'] = homeGeo['location.elevation']\n",
        "  df.at[index, 'away.altitude'] = awayGeo['location.elevation']\n",
        "  df.at[index, 'home.games'] = convert_wlt(homeRow['total.games'])\n",
        "  df.at[index, 'away.games'] = convert_wlt(awayRow['total.games'])\n",
        "  df.at[index, 'home.wins'] = convert_wlt(homeRow['total.wins'])\n",
        "  df.at[index, 'away.wins'] = convert_wlt(awayRow['total.wins'])\n",
        "  df.at[index, 'home.losses'] = convert_wlt(homeRow['total.losses'])\n",
        "  df.at[index, 'away.losses'] = convert_wlt(awayRow['total.losses'])"
      ],
      "metadata": {
        "id": "xRGvJlOmQKbD"
      },
      "execution_count": 246,
      "outputs": []
    },
    {
      "cell_type": "code",
      "source": [
        "hp = df.pop('home_points')\n",
        "ap = df.pop('away_points')\n",
        "df['home_points'] = hp\n",
        "df['away_points'] = ap"
      ],
      "metadata": {
        "id": "EqyVVjax-VG4"
      },
      "execution_count": 247,
      "outputs": []
    },
    {
      "cell_type": "code",
      "source": [
        "df[\"winner_home\"] = np.where(df['home_points'] >= df['away_points'], True, False)"
      ],
      "metadata": {
        "id": "UdiYD2NL-UbH"
      },
      "execution_count": 248,
      "outputs": []
    },
    {
      "cell_type": "code",
      "source": [
        "print(df.head(10))\n",
        "print(list(df.columns))"
      ],
      "metadata": {
        "colab": {
          "base_uri": "https://localhost:8080/"
        },
        "id": "o4WwbR4D9rKT",
        "outputId": "9af0e448-2967-4626-98b5-21b3cc99547f"
      },
      "execution_count": 249,
      "outputs": [
        {
          "output_type": "stream",
          "name": "stdout",
          "text": [
            "               home_team               away_team  ...  away_points  winner_home\n",
            "0               Illinois                Nebraska  ...         22.0         True\n",
            "1           Fresno State             Connecticut  ...          0.0         True\n",
            "2                   UCLA                 Hawai'i  ...         10.0         True\n",
            "3       New Mexico State                    UTEP  ...         30.0        False\n",
            "4         San José State           Southern Utah  ...         14.0         True\n",
            "5     Jacksonville State                     UAB  ...         31.0        False\n",
            "6             Ball State        Western Illinois  ...         21.0         True\n",
            "7  Florida International  Long Island University  ...         10.0         True\n",
            "8       Coastal Carolina             The Citadel  ...         14.0         True\n",
            "9                Buffalo                  Wagner  ...          7.0         True\n",
            "\n",
            "[10 rows x 17 columns]\n",
            "['home_team', 'away_team', 'home.conference', 'home.division', 'home.altitude', 'away.conference', 'away.division', 'away.altitude', 'home.games', 'home.wins', 'home.losses', 'away.games', 'away.wins', 'away.losses', 'home_points', 'away_points', 'winner_home']\n"
          ]
        }
      ]
    },
    {
      "cell_type": "code",
      "source": [
        "nan_columns = df.columns[df.isna().any()].tolist()\n",
        "print(nan_columns)\n",
        "print(\"Cols: {} vs. Cols with Error: {}\".format(len(df.columns), len(nan_columns)))\n",
        "print(df)"
      ],
      "metadata": {
        "colab": {
          "base_uri": "https://localhost:8080/"
        },
        "id": "-V0fxc7H_BoC",
        "outputId": "ecbdcbe2-a7ed-4a44-e80a-e29268ab1c6f"
      },
      "execution_count": 250,
      "outputs": [
        {
          "output_type": "stream",
          "name": "stdout",
          "text": [
            "['away.altitude', 'home.games', 'home.wins', 'home.losses', 'away.games', 'away.wins', 'away.losses', 'home_points', 'away_points']\n",
            "Cols: 17 vs. Cols with Error: 9\n",
            "            home_team      away_team  ...  away_points  winner_home\n",
            "0            Illinois       Nebraska  ...         22.0         True\n",
            "1        Fresno State    Connecticut  ...          0.0         True\n",
            "2                UCLA        Hawai'i  ...         10.0         True\n",
            "3    New Mexico State           UTEP  ...         30.0        False\n",
            "4      San José State  Southern Utah  ...         14.0         True\n",
            "..                ...            ...  ...          ...          ...\n",
            "886        Cincinnati        Houston  ...         20.0         True\n",
            "887              Iowa       Michigan  ...         42.0        False\n",
            "888       Wake Forest     Pittsburgh  ...         45.0        False\n",
            "889        California            USC  ...         14.0         True\n",
            "890              Army           Navy  ...         17.0        False\n",
            "\n",
            "[891 rows x 17 columns]\n"
          ]
        }
      ]
    },
    {
      "cell_type": "code",
      "source": [
        "# replacement strategy for NaNs in altitude will be use median\n",
        "# afterwards must delete all rows with a NaN since we cant predict points scored or the record\n",
        "avgmedalt = (df['home.altitude'].median() + df['away.altitude'].median()) /  2\n",
        "df['home.altitude'].fillna(avgmedalt, inplace=True)\n",
        "df['away.altitude'].fillna(avgmedalt, inplace=True)\n",
        "print(\"Average median altitude: {}\".format(avgmedalt))"
      ],
      "metadata": {
        "colab": {
          "base_uri": "https://localhost:8080/"
        },
        "id": "YC0P65AVAdUe",
        "outputId": "b3ecf68d-14f5-44c1-e348-22fb9b01a0dd"
      },
      "execution_count": 251,
      "outputs": [
        {
          "output_type": "stream",
          "name": "stdout",
          "text": [
            "Average median altitude: 188.23879240000002\n"
          ]
        }
      ]
    },
    {
      "cell_type": "code",
      "source": [
        "# erase all rows with remaining NaN values\n",
        "df.dropna(inplace=True)"
      ],
      "metadata": {
        "id": "NMS2Muz6BFum"
      },
      "execution_count": 252,
      "outputs": []
    },
    {
      "cell_type": "code",
      "source": [
        "# saves the new csv to disk\n",
        "# df.to_csv('games_cleaned.csv', header=True, index=False)"
      ],
      "metadata": {
        "id": "3lCUr6pXS4mZ"
      },
      "execution_count": 253,
      "outputs": []
    },
    {
      "cell_type": "code",
      "source": [
        "feat_variants = ['conference', 'division', 'altitude', 'games', 'wins', 'losses']\n",
        "features = []\n",
        "for feat in feat_variants:\n",
        "  features.append(\"home.\" + feat)\n",
        "  features.append(\"away.\" + feat)\n",
        "\n",
        "targets = ['home_points', 'away_points', 'winner_home']\n",
        "\n",
        "for target in targets:\n",
        "  assert target in df.columns\n",
        "for feature in features:\n",
        "  assert feature in df.columns\n",
        "\n",
        "print(\"Features: {}\".format(features))\n",
        "print(\"Targets: {}\".format(targets))"
      ],
      "metadata": {
        "colab": {
          "base_uri": "https://localhost:8080/"
        },
        "id": "IkAOW_CZPLKL",
        "outputId": "8de7725d-866b-4416-a995-041bdab3e252"
      },
      "execution_count": 254,
      "outputs": [
        {
          "output_type": "stream",
          "name": "stdout",
          "text": [
            "Features: ['home.conference', 'away.conference', 'home.division', 'away.division', 'home.altitude', 'away.altitude', 'home.games', 'away.games', 'home.wins', 'away.wins', 'home.losses', 'away.losses']\n",
            "Targets: ['home_points', 'away_points', 'winner_home']\n"
          ]
        }
      ]
    },
    {
      "cell_type": "code",
      "source": [
        "targetDf = df[targets]\n",
        "featureDf = df[features]\n",
        "\n",
        "x_train, x_test, y_train, y_test = train_test_split(featureDf, targetDf, random_state=0, test_size=0.2)"
      ],
      "metadata": {
        "id": "Ok9tx36OSteP"
      },
      "execution_count": 255,
      "outputs": []
    },
    {
      "cell_type": "code",
      "source": [
        "def show_feature_importance(model, features):\n",
        "  std = np.std([model.feature_importances_ for tree in model.estimators_], axis=0)\n",
        "  importances = pd.Series(model.feature_importances_, index=features)\n",
        "  fig, ax = plt.subplots()\n",
        "  importances.plot.bar(yerr=std, ax=ax)\n",
        "  ax.set_title(\"Feature importances using MDI\")\n",
        "  ax.set_ylabel(\"Mean decrease in impurity\")\n",
        "  fig.tight_layout()"
      ],
      "metadata": {
        "id": "_nBxvSwb2gL-"
      },
      "execution_count": 256,
      "outputs": []
    },
    {
      "cell_type": "code",
      "source": [
        "# Random Forest Classifier for 'winner_home'\n",
        "rfc = RandomForestClassifier(n_estimators=100, criterion='gini', min_samples_split=2, min_samples_leaf=10, min_weight_fraction_leaf=0.0, max_features='auto', random_state=0)\n",
        "rfc.fit(x_train.values, y_train['winner_home'].values)\n",
        "rfcAccuracy = rfc.score(x_test.values, y_test['winner_home'].values)\n",
        "print(\"Predicting: {}\\nModel: {}\\nAccuracy of: {}\\n\".format(\"winner_home\", \"Random Forest\", rfcAccuracy))\n",
        "\n",
        "show_feature_importance(rfc, features)"
      ],
      "metadata": {
        "colab": {
          "base_uri": "https://localhost:8080/",
          "height": 366
        },
        "id": "aY66SL9yVaT3",
        "outputId": "f83f27bd-517c-47ed-86ec-7610adc05bd6"
      },
      "execution_count": 257,
      "outputs": [
        {
          "output_type": "stream",
          "name": "stdout",
          "text": [
            "Predicting: winner_home\n",
            "Model: Random Forest\n",
            "Accuracy of: 0.7414965986394558\n",
            "\n"
          ]
        },
        {
          "output_type": "display_data",
          "data": {
            "image/png": "[encoded data removed]",
            "text/plain": [
              "<Figure size 432x288 with 1 Axes>"
            ]
          },
          "metadata": {
            "needs_background": "light"
          }
        }
      ]
    },
    {
      "cell_type": "code",
      "source": [
        "# LassoCV for predicated both teams scores\n",
        "en1 = LassoCV()\n",
        "en1.fit(x_train.values, y_train['home_points'].values)\n",
        "en1Accuracy = en1.score(x_test.values, y_test['home_points'].values)\n",
        "\n",
        "en2 = LassoCV()\n",
        "en2.fit(x_train.values, y_train['away_points'].values)\n",
        "en2Accuracy = en2.score(x_test.values, y_test['away_points'].values)\n",
        "\n",
        "print(\"Predicting: {}\\nModel: {}\\nAccuracy: {}\\n\".format(\"home_points\", \"Lasso 1\", en1Accuracy))\n",
        "print(\"Predicting: {}\\nModel: {}\\nAccuracy: {}\\n\".format(\"away_points\", \"Lasso 2\", en2Accuracy))"
      ],
      "metadata": {
        "colab": {
          "base_uri": "https://localhost:8080/"
        },
        "id": "eO1oax6RsmmA",
        "outputId": "4ba10d32-eda5-4cd8-ce53-51475fa495c3"
      },
      "execution_count": 258,
      "outputs": [
        {
          "output_type": "stream",
          "name": "stdout",
          "text": [
            "Predicting: home_points\n",
            "Model: Lasso 1\n",
            "Accuracy: 0.19216303662538659\n",
            "\n",
            "Predicting: away_points\n",
            "Model: Lasso 2\n",
            "Accuracy: 0.32261660783472546\n",
            "\n"
          ]
        }
      ]
    },
    {
      "cell_type": "code",
      "source": [
        "def prepare_data(homec, awayc, homed, awayd, homea, awaya, homeg, homew, homel, awayg, awayw, awayl):\n",
        "  return {\n",
        "      'home.conference' : convert_conference(homec),\n",
        "      'away.conference' : convert_conference(awayc),\n",
        "      'home.division' : convert_division(homed),\n",
        "      'away.division' : convert_division(awayd),\n",
        "      'home.altitude' : convert_wlt(homea),\n",
        "      'away.altitude' : convert_wlt(awaya),\n",
        "      'home.games' : convert_wlt(homeg),\n",
        "      'away.games' : convert_wlt(awayg),\n",
        "      'home.wins' : convert_wlt(homew),\n",
        "      'away.wins' : convert_wlt(awayw),\n",
        "      'home.losses' : convert_wlt(homel),\n",
        "      'away.losses' : convert_wlt(awayl)\n",
        "  }"
      ],
      "metadata": {
        "id": "IFcHdxu2d5VG"
      },
      "execution_count": 259,
      "outputs": []
    },
    {
      "cell_type": "code",
      "source": [
        "# Bowl game data from games starting on 12/22/21 and onward\n",
        "home_teams = ['Missouri', 'North Texas', 'UCF']\n",
        "away_teams = ['Army', 'Miami OH', 'Florida']\n",
        "missouri_army = prepare_data('SEC', 'FBS Independents', 'East', 'None', 199, 102, 12, 6, 6, 12, 8, 4)\n",
        "northTexas_miamiOh = prepare_data('Conference USA', 'Mid-American', 'West', 'East', 196, 243, 12, 6, 6, 12, 6, 6)\n",
        "ucf_florida = prepare_data('American', 'SEC', 'East', 'East', 17, 49, 12 ,8 ,4, 12, 6, 6)\n",
        "\n",
        "bowl_games = [missouri_army, northTexas_miamiOh, ucf_florida]\n",
        "bowl_df = pd.DataFrame.from_records(bowl_games)"
      ],
      "metadata": {
        "id": "KpIKTeOy6HlT"
      },
      "execution_count": 276,
      "outputs": []
    },
    {
      "cell_type": "code",
      "source": [
        "for i in range(len(bowl_games)):\n",
        "  bowl_game_features = bowl_df.iloc[i].values.reshape(1, -1)\n",
        "  team = home_teams[i] if rfc.predict(bowl_game_features) else away_teams[i]\n",
        "  home_score = en1.predict(bowl_game_features)\n",
        "  away_score = en2.predict(bowl_game_features)\n",
        "  print(\"Predicated: {}, with a score of -> {}: {} - {}: {}\".format(team, home_teams[i], int(home_score[0]), away_teams[i], int(away_score[0])))"
      ],
      "metadata": {
        "colab": {
          "base_uri": "https://localhost:8080/"
        },
        "id": "5mv8LzLsBihj",
        "outputId": "6f35ed72-7107-45ff-b47d-ebc72d1aae34"
      },
      "execution_count": 277,
      "outputs": [
        {
          "output_type": "stream",
          "name": "stdout",
          "text": [
            "Predicated: Missouri, with a score of -> Missouri: 26 - Army: 28\n",
            "Predicated: North Texas, with a score of -> North Texas: 28 - Miami OH: 25\n",
            "Predicated: UCF, with a score of -> UCF: 32 - Florida: 22\n"
          ]
        }
      ]
    }
  ]
}